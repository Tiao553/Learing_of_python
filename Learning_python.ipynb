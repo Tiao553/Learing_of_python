{
  "nbformat": 4,
  "nbformat_minor": 0,
  "metadata": {
    "colab": {
      "name": "Learning python",
      "provenance": [],
      "toc_visible": true,
      "authorship_tag": "ABX9TyMzInUzwDqKZDtYkVfxr+MP",
      "include_colab_link": true
    },
    "kernelspec": {
      "name": "python3",
      "display_name": "Python 3"
    }
  },
  "cells": [
    {
      "cell_type": "markdown",
      "metadata": {
        "id": "view-in-github",
        "colab_type": "text"
      },
      "source": [
        "<a href=\"https://colab.research.google.com/github/Tiao553/Learing_of_python/blob/main/Learning_python.ipynb\" target=\"_parent\"><img src=\"https://colab.research.google.com/assets/colab-badge.svg\" alt=\"Open In Colab\"/></a>"
      ]
    },
    {
      "cell_type": "markdown",
      "metadata": {
        "id": "ezCrzU_LApCS"
      },
      "source": [
        "<img  src=\"https://raw.githubusercontent.com/Tiao553/Learing_of_python/main/img/cabs.png\">\r\n",
        "\r\n",
        "*by [Sebastião Ferreira de Paula Neto](https://github.com/Tiao553)*\r\n",
        "\r\n",
        "> In this notebook you will find all my notes obtained in the referenced courses. If the course owners do not accept please contact me in the email: **sebastiao553@gmail.com**\r\n",
        "\r\n",
        "References:\r\n",
        "1. [DataCamp](https://www.datacamp.com/community/tutorials/data-structures-python?utm_source=adwords_ppc&utm_campaignid=1455363063&utm_adgroupid=65083631748&utm_device=c&utm_keyword=&utm_matchtype=b&utm_network=g&utm_adpostion=1t1&utm_creative=332602034364&utm_targetid=aud-763347114660:dsa-473406574075&utm_loc_interest_ms=&utm_loc_physical_ms=1001541&gclid=Cj0KCQiA_rfvBRCPARIsANlV66N_5SRa7F2qL3KLKHykcqgJZWku5_Q5ZdlYD3lHYScv2fZFp8UAEOMaAsOVEALw_wcB)\r\n",
        "2. [sigmoidal](https://sigmoidal.ai/)\r\n",
        "3. [DataScienceAcademy](https://www.datascienceacademy.com.br/course?courseid=python-fundamentos&register=true)\r\n"
      ]
    },
    {
      "cell_type": "markdown",
      "metadata": {
        "id": "fIbzYfKnNlDG"
      },
      "source": [
        "\r\n",
        "# Let's talk about Python\r\n",
        "Programming is the way computers run accounts and store data. What varies from a programming language is the way it communicates with computers and a communicate with other languages.\r\n",
        "\r\n",
        "Python, in particular, has this different link from other languages, to facilitate and generate values more easily. Python is **the most popular** nowadays if we analyze the growth exponentially. The image below shows this growth in a visual way:\r\n",
        "\r\n",
        "<center><img width=\"60%\" src=\"https://raw.githubusercontent.com/Tiao553/Learing_of_python/main/img/grafic.jpeg\"></center>\r\n",
        "\r\n",
        "Thus,  this free course was created to demonstrate the python language to those who wish to enter the world of data science. Moreover, abusing the popularity and growth, we justify this choice of this language.\r\n"
      ]
    },
    {
      "cell_type": "markdown",
      "metadata": {
        "id": "Xx8tk38eNplT"
      },
      "source": [
        "---\r\n",
        "# **Introduction**\r\n",
        "\r\n",
        "To demonstrate python to the world of data science we will **divide it into eight** steps at consist of:\r\n",
        "\r\n",
        "1. **Variables , types and structures of data;**\r\n",
        "2. **Structures of loops;**\r\n",
        "3. **Conditional, methods and functions;**\r\n",
        "4. **Data processing, modules, packege and function Built-in;**\r\n",
        "5. **Object orientation;**\r\n",
        "6. **Manipulating database with Python;**\r\n",
        "7. **Development web with Python;**\r\n",
        "8. **Introduction at web scraping with Python;**\r\n"
      ]
    },
    {
      "cell_type": "markdown",
      "metadata": {
        "id": "ojkRGJPlNw87"
      },
      "source": [
        "----\r\n",
        "# **1 - Variables , types and structures of data**\r\n",
        "In this topic, it is worth pointing out some initial fundamentals. Python is a language where the indentation is made through spacing either by the \"tab\" or space that coordinates the hierarchy of the code. \r\n",
        "\r\n",
        "*Remember to organize your code, but how do I accomplish  this?*\r\n",
        "\r\n",
        "Below are some ideas that besides organizing your code, **will generate a visual identity.**\r\n",
        "\r\n",
        "\r\n",
        "1. Take care of **code spacing.**\r\n",
        "2. Create **programming standards.**\r\n",
        "3. The indentation is not only important for the operation of the code, but it can also **generate this visual identity.**\r\n",
        "4.  **Comment on your code.** After all, you can forget what you would like in a part of the code."
      ]
    },
    {
      "cell_type": "markdown",
      "metadata": {
        "id": "l8Fwuyq38Rjg"
      },
      "source": [
        "## Variables\r\n",
        "\r\n",
        "Variables are value stores, where the variables allocate memory to this value.Differently from other languages, the variables do not need to be defined previously, we can create them at the time of association. To associate a value to a variable, just use the operator that indicates association =.\r\n",
        "\r\n",
        " In the variables there are some rules for their initiation, such as:\r\n",
        " 1. There can be no space in it;\r\n",
        " 2. You cannot start it with a number;\r\n",
        " 3. The symbols are not used: <>/()@#$%^&*^+-!"
      ]
    },
    {
      "cell_type": "markdown",
      "metadata": {
        "id": "XOjKVugqP4po"
      },
      "source": [
        "## Type variable\r\n",
        "\r\n",
        "The types of variables are important for the language to know how the data are. Each of the types carries a particular storage form and characteristic. that way, we have the following types of variables:\r\n",
        "\r\n",
        "* `int` : carries entire numbers.\r\n",
        "* `float` : Floating point, or rational numbers.\r\n",
        "* `bool` : logic variable.\r\n",
        "* `complex` : variable that carries complex values.\r\n",
        "* `object` : The concept is a bit complex, but will be detailed in the future.\r\n",
        "* `string` : It stores values in character format."
      ]
    },
    {
      "cell_type": "markdown",
      "metadata": {
        "id": "IQVx2KJ842EA"
      },
      "source": [
        "## Mathematical  operator's\r\n",
        "\r\n",
        "First, let's approach the mathematical operators beyond their order of precedence when composing a mathematical expression.\r\n",
        "\r\n",
        "Python's mathematical operators are:\r\n",
        "\r\n",
        "\r\n",
        "* `+` Addition;\r\n",
        "* `-` Subtraction;\r\n",
        "* `/` Division;\r\n",
        "* `//` Division (entire result);\r\n",
        "* `*` Multiplication;\r\n",
        "* `**` Exponentiation;\r\n",
        "* `%` Rest of division;\r\n",
        "\r\n",
        "There are also the assignment operators, where they have the function of performing two operations together, such as:\r\n",
        "* `=` assignment;\r\n",
        "* `+=` sum plus assignment; (equals x = x + 1 -> x += 1)\r\n",
        "* `-=` subtraction plus assignment;\r\n",
        "* `*=` multiplication plus assignment;\r\n",
        "* `/=` division plus assignment;\r\n",
        "* `**=` power plus assignment;\r\n",
        "* `//=` division of integers plus assignment;\r\n",
        "* `%=` rest plus assignment;\r\n",
        "\r\n",
        "\r\n",
        "In Python, the execution points are taken into account. This way, it follows an order of priority. This is shown below:\r\n",
        "\r\n",
        "* 1st parenthesis;\r\n",
        "* 2nd Exponents;\r\n",
        "* 3rd Multiplications and Divisions; (from left to right)\r\n",
        "* 4th Sum and Subtractions. (from left to right)\r\n",
        "\r\n",
        "\r\n"
      ]
    },
    {
      "cell_type": "markdown",
      "metadata": {
        "id": "Zyshj48HkwLH"
      },
      "source": [
        "### Logic operator's and bool variable\r\n",
        "\r\n",
        "Booleans variables represent the operations that are executed directly on the computer. It is also a great tool for verification. The `bool` type is a data that can have the values `True` or `False`:\r\n",
        "\r\n",
        "* `True` - equals a $1$\r\n",
        "* `false` - equals a $0$\r\n",
        "\r\n",
        "Besides the operators, we have the relational operators that are widely used in sets the variable booleans, and they are them:\r\n",
        "\r\n",
        "* `<` Minor than;\r\n",
        "* `>` Bigger than;        \r\n",
        "* `<=` Less than or equal to; \r\n",
        "* `>=` Greater than or equal to; \r\n",
        "* `==` Equal to;         \r\n",
        "* `\\!=` Diferent to;    \r\n",
        "\r\n",
        "To be able to unify all these variables and logical expressions we need logical operators, for this, we have the following operators:\r\n",
        "\r\n",
        "* `and` Both operators are True returns True;\r\n",
        "* `or` If only one of the operators is True returns True;\r\n",
        "* `not` Reverse the logic;"
      ]
    },
    {
      "cell_type": "markdown",
      "metadata": {
        "id": "VYgae6f3lCu2"
      },
      "source": [
        "## Strings\r\n",
        "\r\n",
        "The strings are the shape of the python to which it records the information in a text format. That is, it saves and makes the character control in sequence, counting the spaces. Soon it is possible to work with **indexing** and **immutable.** And the indexing **starts at 0** in python.\r\n",
        "\r\n",
        "This way we will explain the functions, which will be a future topic, in which they are applied in strings set.\r\n",
        "\r\n",
        "1. `Slicing` Function \r\n",
        "\r\n",
        "Slicing is the way of slicing the string where through indices we can manipulate it. example:\r\n",
        "\r\n"
      ]
    },
    {
      "cell_type": "code",
      "metadata": {
        "id": "89rsWFgp38A3"
      },
      "source": [
        "# Iniciate the string\r\n",
        "string = 'LearningPython'\r\n",
        "# only the first element\r\n",
        "print(string[0])\r\n",
        "# The first and second element,check that the last element seting in the slicing is not displayed\r\n",
        "print(string[0:2])\r\n",
        "# All elements\r\n",
        "print(string[0::])\r\n",
        "# jumping from three to three elements\r\n",
        "print(string[::3])"
      ],
      "execution_count": null,
      "outputs": []
    },
    {
      "cell_type": "markdown",
      "metadata": {
        "id": "HJhlxEt95kaN"
      },
      "source": [
        "2. `len` Function \r\n",
        "\r\n",
        "The `len` function returns an integer that corresponds to how many characters there are in the string. with example:"
      ]
    },
    {
      "cell_type": "code",
      "metadata": {
        "colab": {
          "base_uri": "https://localhost:8080/"
        },
        "id": "tOfTlMXgJIx5",
        "outputId": "3de182b9-544f-49c6-cccb-c0e9efa2c114"
      },
      "source": [
        "A = 'KKKKKKKKKKKKKKK'\r\n",
        "B = 'KKKKKKK KKKKKKKK' \r\n",
        "print(len(A))\r\n",
        "print(len(B))"
      ],
      "execution_count": null,
      "outputs": [
        {
          "output_type": "stream",
          "text": [
            "15\n",
            "16\n"
          ],
          "name": "stdout"
        }
      ]
    },
    {
      "cell_type": "markdown",
      "metadata": {
        "id": "-AY8sYgCJrYJ"
      },
      "source": [
        "3. `split` Function\r\n",
        "\r\n",
        "This function character is passed where it splits the `string` into the location index of the character. Besides, it has returned in `list` format, but don't worry it's, one of our next topics.  You don't understand? let's take an example to make it easier to view:"
      ]
    },
    {
      "cell_type": "code",
      "metadata": {
        "colab": {
          "base_uri": "https://localhost:8080/"
        },
        "id": "qD3ecpZ-R0eh",
        "outputId": "45dbbdf2-54c3-43be-abfe-fb92b9f9e9a1"
      },
      "source": [
        "Name = \"Sebastião Ferreira de Paula Neto\"\r\n",
        "Name.split(' ')"
      ],
      "execution_count": null,
      "outputs": [
        {
          "output_type": "execute_result",
          "data": {
            "text/plain": [
              "['Sebastião', 'Ferreira', 'de', 'Paula', 'Neto']"
            ]
          },
          "metadata": {
            "tags": []
          },
          "execution_count": 7
        }
      ]
    },
    {
      "cell_type": "markdown",
      "metadata": {
        "id": "lcib54XJutp5"
      },
      "source": [
        "4. `replace` Function\r\n",
        "\r\n",
        "The name itself introduces the function, where it must exchange values within the string.\r\n",
        "\r\n",
        "Let's take an example. "
      ]
    },
    {
      "cell_type": "code",
      "metadata": {
        "colab": {
          "base_uri": "https://localhost:8080/",
          "height": 35
        },
        "id": "aIohBxOtwhIp",
        "outputId": "a512b878-2d4a-421e-8f74-a06865462e4a"
      },
      "source": [
        "Name.replace(\"a\",\"4\")"
      ],
      "execution_count": null,
      "outputs": [
        {
          "output_type": "execute_result",
          "data": {
            "application/vnd.google.colaboratory.intrinsic+json": {
              "type": "string"
            },
            "text/plain": [
              "'Seb4stião Ferreir4 de P4ul4 Neto'"
            ]
          },
          "metadata": {
            "tags": []
          },
          "execution_count": 9
        }
      ]
    },
    {
      "cell_type": "markdown",
      "metadata": {
        "id": "fBCWKwZJw22o"
      },
      "source": [
        "5. `strip` Function\r\n",
        "\r\n",
        "Removes or blanks or unwanted characters. Can be used to remove whitespaces at the beginning and end of a string, or to remove unwanted characters. Exemple:\r\n"
      ]
    },
    {
      "cell_type": "code",
      "metadata": {
        "colab": {
          "base_uri": "https://localhost:8080/",
          "height": 35
        },
        "id": "BQXnBT3gxKIw",
        "outputId": "87fa9b42-7b98-434e-ae45-41b8f1cdd897"
      },
      "source": [
        "text = \"          CSeb/    Tião   \"\r\n",
        "text.strip()"
      ],
      "execution_count": null,
      "outputs": [
        {
          "output_type": "execute_result",
          "data": {
            "application/vnd.google.colaboratory.intrinsic+json": {
              "type": "string"
            },
            "text/plain": [
              "'CSeb/    Tião'"
            ]
          },
          "metadata": {
            "tags": []
          },
          "execution_count": 13
        }
      ]
    },
    {
      "cell_type": "markdown",
      "metadata": {
        "id": "T5_BkSejxjqA"
      },
      "source": [
        "### Convert strings\r\n",
        "The python has functions ready to treat the strings content as well. These functions are intended to convert them into upper or lower case or with other rules. Let's go to the main functions:\r\n",
        "\r\n",
        "1. `upper` : To make them all bigger, just use this function.\r\n",
        "2. `lower` : To make them all minors, just use this function.\r\n",
        "3. `capitalize` : This function turns the first character into a capital letter.\r\n",
        "4. `swapcase` : Here we will turn things upside down, turning uppercase into lowercase, and vice versa.\r\n",
        "5. `title` : Essa função transforma a primeira letra de cada palavra em maiúscula.\r\n",
        "\r\n",
        "let's go to examples:"
      ]
    },
    {
      "cell_type": "code",
      "metadata": {
        "colab": {
          "base_uri": "https://localhost:8080/"
        },
        "id": "EjFVCGWl0Cl4",
        "outputId": "af034c56-8bc5-4995-8f19-00c90f71517e"
      },
      "source": [
        "case = \"seBastião feRreira dE pauLa neTo\"\r\n",
        "print(case.lower() + \"\\n\")\r\n",
        "print(case.upper(),\"\\n\")\r\n",
        "print(\"  {} \\n\".format(case.capitalize()))\r\n",
        "print(case.title(), \"\\n\")\r\n",
        "print(case.swapcase())"
      ],
      "execution_count": null,
      "outputs": [
        {
          "output_type": "stream",
          "text": [
            "sebastião ferreira de paula neto\n",
            "\n",
            "SEBASTIÃO FERREIRA DE PAULA NETO \n",
            "\n",
            "  Sebastião ferreira de paula neto \n",
            "\n",
            "Sebastião Ferreira De Paula Neto \n",
            "\n",
            "SEbASTIÃO FErREIRA De PAUlA NEtO\n"
          ],
          "name": "stdout"
        }
      ]
    },
    {
      "cell_type": "markdown",
      "metadata": {
        "id": "1na_aUx_1pAf"
      },
      "source": [
        "Using the last example to show also how to perform calculations with the strings, where all **operators perform calculations with the strings**. Besides showing ways to display with print."
      ]
    },
    {
      "cell_type": "markdown",
      "metadata": {
        "id": "YiwlwK8PlH8u"
      },
      "source": [
        "## Data structures\r\n",
        "Data structures have a **feature of being non-linear** and thus generate the grouping of data and manipulation in order to ensure **better efficiency**. Imagine a data structure as a box where you can put several objects whether they have similar characteristics or not. In addition, you can open it and access all these in an easy way.\r\n",
        "\r\n",
        "And in this notebook, **we will learn how to work and manipulate the various types of data structure.** But it is necessary to emphasize a difference of these variables to those demonstrated before.\r\n",
        "\r\n",
        "* **Variables Primitive Vs Non-primitive**\r\n",
        "\r\n",
        "<center><img width=\"70%\" src=\"https://res.cloudinary.com/dyd911kmh/image/upload/c_scale,f_auto,q_auto:best,w_700/v1512740202/Template_2_oxrskq.png\"></center>\r\n",
        "\r\n",
        ">The **primitive variables** are those we have seen before. They receive this classification because their purpose is to perform only one form of storage. These variables are `int`, `float`, `string` and `bool` which have already been explained. \r\n",
        "\r\n",
        "> The **Non-primitive variables** are part of a complex of data structure variables. Where, these have groupings of these primitives.\r\n",
        "\r\n",
        "### Arrays\r\n",
        "The `arrays` are the form of data collection that correspond to the same type of data. These are similar to `list` although they do not have the same functionality. We will deal with `list` in the next topics, but we can say that the `arrays` are `list` more efficient way to store the same type of data."
      ]
    },
    {
      "cell_type": "code",
      "metadata": {
        "colab": {
          "base_uri": "https://localhost:8080/"
        },
        "id": "YbmisoMXDiR_",
        "outputId": "4dd053fb-2103-4236-e340-e60b8285c7b7"
      },
      "source": [
        "import array as arr\r\n",
        "a = arr.array(\"I\",[3,6,9])\r\n",
        "type(a)"
      ],
      "execution_count": null,
      "outputs": [
        {
          "output_type": "execute_result",
          "data": {
            "text/plain": [
              "array.array"
            ]
          },
          "metadata": {
            "tags": []
          },
          "execution_count": 2
        }
      ]
    },
    {
      "cell_type": "markdown",
      "metadata": {
        "id": "gOATJ3I6lVrw"
      },
      "source": [
        "### List\r\n",
        "Lists are sequences of values, where each value is identified by an index referring to its position. The variable type of the lists is `list`, and you will see how extremely useful they are for data manipulation.\r\n",
        "\r\n",
        "Important detail, lists are changeable, composed of several values, called elements or items, and can be of different types.\r\n",
        "\r\n",
        "The lists can still be classified in two more steps, first as *linear* and *non-linear*. In the linear classification branch you will find stack and queue. Already in the non-linear branch we have the tree and graph classifications. Below we will detail each one.\r\n",
        "\r\n",
        "#### **General classification of lists:**\r\n",
        "- The lists are changeable, this means that the elements contained in their indices can be changed.\r\n",
        "- These are built with `[]`.\r\n",
        "- They are not fixed in size.\r\n",
        "- They support nesting, i.e. they can contain lists within lists.\r\n",
        "- The lists are not monotypic, i.e. they can be of heterogeneous items."
      ]
    },
    {
      "cell_type": "markdown",
      "metadata": {
        "id": "K4nLxaJOB4BQ"
      },
      "source": [
        "Python provides many methods to manipulate and work with lists. Adding new items to a list, removing some items from a list, sorting or reversing a list are common list manipulations. Let's see some of them in action:\r\n",
        "\r\n",
        "* **`append()` Function**\r\n",
        "> This function ensures that we can add values to the list at the end."
      ]
    },
    {
      "cell_type": "code",
      "metadata": {
        "colab": {
          "base_uri": "https://localhost:8080/"
        },
        "id": "ba8d_ZO8EXEH",
        "outputId": "e1c879c7-bfb3-4e28-80c7-180e7183cb35"
      },
      "source": [
        "list = []\r\n",
        "list.append('string')\r\n",
        "list.append(1)\r\n",
        "list"
      ],
      "execution_count": null,
      "outputs": [
        {
          "output_type": "execute_result",
          "data": {
            "text/plain": [
              "['string', 1]"
            ]
          },
          "metadata": {
            "tags": []
          },
          "execution_count": 16
        }
      ]
    },
    {
      "cell_type": "markdown",
      "metadata": {
        "id": "9OZnOyJyElSe"
      },
      "source": [
        "* **`insert()` Function**\r\n",
        "> This function ensures that we can add values to the list at the required position.\r\n"
      ]
    },
    {
      "cell_type": "code",
      "metadata": {
        "colab": {
          "base_uri": "https://localhost:8080/"
        },
        "id": "-CmLCMVZE1Lg",
        "outputId": "4c5c6fb7-dca5-44e9-cae6-75f0e61f612d"
      },
      "source": [
        "# The first value indicates the required index and the second indicates the past parameter.\r\n",
        "list.insert(2,[1,3,4])\r\n",
        "list"
      ],
      "execution_count": null,
      "outputs": [
        {
          "output_type": "execute_result",
          "data": {
            "text/plain": [
              "['string', 1, [1, 3, 4]]"
            ]
          },
          "metadata": {
            "tags": []
          },
          "execution_count": 17
        }
      ]
    },
    {
      "cell_type": "markdown",
      "metadata": {
        "id": "RXm_97ywFbA2"
      },
      "source": [
        "* **`remove()` Function**\r\n",
        "> This function remove values to the list."
      ]
    },
    {
      "cell_type": "code",
      "metadata": {
        "colab": {
          "base_uri": "https://localhost:8080/"
        },
        "id": "q-CskA4KF0gm",
        "outputId": "3f7f91e3-2e8b-481a-fbc0-a06746d3f476"
      },
      "source": [
        "list.remove(1)\r\n",
        "print(list)\r\n"
      ],
      "execution_count": null,
      "outputs": [
        {
          "output_type": "stream",
          "text": [
            "['string', [1, 3, 4]]\n"
          ],
          "name": "stdout"
        }
      ]
    },
    {
      "cell_type": "markdown",
      "metadata": {
        "id": "DxJSGD6RGaFX"
      },
      "source": [
        "* **`pop() ` Function**\r\n",
        "> Removes the item at the specified position."
      ]
    },
    {
      "cell_type": "code",
      "metadata": {
        "colab": {
          "base_uri": "https://localhost:8080/"
        },
        "id": "buZpAmK1Gqmm",
        "outputId": "64ba7214-deee-4040-bfe5-e958b14e0d25"
      },
      "source": [
        "list.pop(-1)\r\n",
        "list"
      ],
      "execution_count": null,
      "outputs": [
        {
          "output_type": "execute_result",
          "data": {
            "text/plain": [
              "['string']"
            ]
          },
          "metadata": {
            "tags": []
          },
          "execution_count": 19
        }
      ]
    },
    {
      "cell_type": "markdown",
      "metadata": {
        "id": "hqos53_3Gwk2"
      },
      "source": [
        "It should be noted that the negative list runs from the last to the first.\r\n",
        "\r\n",
        "* **`sort()` and `reverse()` Function**\r\n",
        "> In-place sorting numeric values.\r\n",
        "> In-place sorting numeric values."
      ]
    },
    {
      "cell_type": "code",
      "metadata": {
        "colab": {
          "base_uri": "https://localhost:8080/"
        },
        "id": "c2gis36CHI_O",
        "outputId": "72d4ea4d-d3f0-487a-cf6f-45161719dc84"
      },
      "source": [
        "numeric = [12,1,3,4,1,5,3,1324]\r\n",
        "numeric.sort()\r\n",
        "print(numeric)\r\n",
        "numeric.reverse()\r\n",
        "print(numeric)"
      ],
      "execution_count": null,
      "outputs": [
        {
          "output_type": "stream",
          "text": [
            "[1, 1, 3, 3, 4, 5, 12, 1324]\n",
            "[1324, 12, 5, 4, 3, 3, 1, 1]\n"
          ],
          "name": "stdout"
        }
      ]
    },
    {
      "cell_type": "markdown",
      "metadata": {
        "id": "ih4pXqdtHT68"
      },
      "source": [
        "#### **Array   Vs   List**\r\n",
        "Now that you have seen lists in Python, you maybe wondering why you need arrays at all. The reason is that they are fundamentally different in terms of the operations one can perform on them. With arrays, you can perform an operations on all its item individually easily, which may not be the case with lists. Here is an illustration:"
      ]
    },
    {
      "cell_type": "code",
      "metadata": {
        "colab": {
          "base_uri": "https://localhost:8080/"
        },
        "id": "GmtrhEmpJx6P",
        "outputId": "d8cb66e8-2da0-42b3-e9c4-05640bc40357"
      },
      "source": [
        "import array as arr\r\n",
        "Arre = arr.array(\"u\",[\"D\",\"o\",\"g\",\"s\"])\r\n",
        "Arre.tostring()\r\n",
        "print(Arre)"
      ],
      "execution_count": null,
      "outputs": [
        {
          "output_type": "stream",
          "text": [
            "array('u', 'Dogs')\n"
          ],
          "name": "stdout"
        }
      ]
    },
    {
      "cell_type": "markdown",
      "metadata": {
        "id": "vuDLd_BqKNqE"
      },
      "source": [
        "You were able to apply `tostring()` function of the `Arre` because Python is aware that all the items in an array are of the same data type and hence the operation behaves the same way on each element. Thus, arrays can be very useful when dealing with a large collection of homogeneous data types. \r\n",
        "\r\n",
        "The best way to work with array is through the numpy library. The structures presented before present their concepts may be relatively complex, but are widely used due to their similarity to real world models. You will get an idea of these list classification structures."
      ]
    },
    {
      "cell_type": "markdown",
      "metadata": {
        "id": "BEcn2ZngQJ6B"
      },
      "source": [
        "#### **Stack's**\r\n",
        "\r\n",
        "A stack is a container of objects that are inserted and removed according to the **Last-In-First-Out (LIFO) concept.**"
      ]
    },
    {
      "cell_type": "code",
      "metadata": {
        "colab": {
          "base_uri": "https://localhost:8080/"
        },
        "id": "GpY_Bi_0QUHp",
        "outputId": "4aafcbec-b646-4c7e-ae07-a4815b3f6847"
      },
      "source": [
        "stack = [1,2,3,4,5] \r\n",
        "stack.append(6) # Bottom -> 1 -> 2 -> 3 -> 4 -> 5 -> 6 (Top)\r\n",
        "print(stack)\r\n",
        "stack.pop()     # Bottom -> 1 -> 2 -> 3 -> 4 -> 5 (Top)\r\n",
        "stack.pop()     # Bottom -> 1 -> 2 -> 3 -> 4 (Top)\r\n",
        "print(stack)"
      ],
      "execution_count": null,
      "outputs": [
        {
          "output_type": "stream",
          "text": [
            "[1, 2, 3, 4, 5, 6]\n",
            "[1, 2, 3, 4]\n"
          ],
          "name": "stdout"
        }
      ]
    },
    {
      "cell_type": "markdown",
      "metadata": {
        "id": "P1sktTbQQiK-"
      },
      "source": [
        "#### **Queue's**\r\n",
        "A queue is a container of objects that are inserted and removed according to the **First-In-First-Out (FIFO) principle.** \r\n",
        "\r\n",
        "Lists are not efficient to implement a queue, because `append()` and `pop()` from the end of a list is not fast and incur a memory movement cost. Also, insertion at the end and deletion from the beginning of a list is not so fast since it requires a shift in the element positions."
      ]
    },
    {
      "cell_type": "markdown",
      "metadata": {
        "id": "qapP1WP7Q0e_"
      },
      "source": [
        "#### **Graph's**\r\n",
        "A graph are **networks consisting of nodes**, also called vertices which may or may not be connected to each other. The lines or the path that connects two nodes is called an edge. If the edge has a particular direction of flow, then it is a directed graph, with the **direction edge being called an arc**. Else if no directions are specified, the graph is **called an undirected graph**.\r\n",
        "\r\n",
        "This may sound all very theoretical and can get rather complex when you dig deeper. However, graphs are an important concept specially in Data Science and are often used to model real life problems. Social networks, molecular studies in chemistry and biology, maps, recommender system all rely on graph and graph theory principles. As an example we have:"
      ]
    },
    {
      "cell_type": "code",
      "metadata": {
        "colab": {
          "base_uri": "https://localhost:8080/"
        },
        "id": "H1oFsr3vRiOS",
        "outputId": "cda56a35-7cac-4a4c-986c-01feca7fc421"
      },
      "source": [
        "graph = { \"a\" : [\"c\", \"d\"],\r\n",
        "          \"b\" : [\"d\", \"e\"],\r\n",
        "          \"c\" : [\"a\", \"e\"],\r\n",
        "          \"d\" : [\"a\", \"b\"],\r\n",
        "          \"e\" : [\"b\", \"c\"]\r\n",
        "        }\r\n",
        "\r\n",
        "def define_edges(graph):\r\n",
        "    edges = []\r\n",
        "    for vertices in graph:\r\n",
        "        for neighbour in graph[vertices]:\r\n",
        "            edges.append((vertices, neighbour))\r\n",
        "    return edges\r\n",
        "\r\n",
        "print(define_edges(graph))"
      ],
      "execution_count": null,
      "outputs": [
        {
          "output_type": "stream",
          "text": [
            "[('a', 'c'), ('a', 'd'), ('b', 'd'), ('b', 'e'), ('c', 'a'), ('c', 'e'), ('d', 'a'), ('d', 'b'), ('e', 'b'), ('e', 'c')]\n"
          ],
          "name": "stdout"
        }
      ]
    },
    {
      "cell_type": "markdown",
      "metadata": {
        "id": "xc9EC0A-R6Mn"
      },
      "source": [
        "#### **Tree**\r\n",
        "The branches of the tree spread out in a somewhat organized way. Trees are used to describe how data is sometimes organized, except that the root is on the top and the branches, leaves follow, spreading towards the bottom and the tree is drawn inverted compared to the real tree.\r\n",
        "\r\n",
        "<center><img width=\"30%\" src=\"https://upload.wikimedia.org/wikipedia/commons/thumb/9/93/Tree.example.png/300px-Tree.example.png\"></center>\r\n",
        "\r\n",
        "\r\n",
        "You can implement a tree structure using and combining the various data structures you have seen so far in this tutorial.As an example we have:"
      ]
    },
    {
      "cell_type": "code",
      "metadata": {
        "colab": {
          "base_uri": "https://localhost:8080/"
        },
        "id": "p__N3HR3Uh1Q",
        "outputId": "2e36c2ba-2402-4233-8194-84ed0808ead4"
      },
      "source": [
        "class Tree:\r\n",
        "    def __init__(self, info, left=None, right=None):\r\n",
        "        self.info = info\r\n",
        "        self.left  = left\r\n",
        "        self.right = right\r\n",
        "\r\n",
        "    def __str__(self):\r\n",
        "        return (str(self.info) + ', Left child: ' + str(self.left) + ', Right child: ' + str(self.right))\r\n",
        "\r\n",
        "tree = Tree(1, Tree(2, 2.1, 2.2), Tree(3, 3.1))\r\n",
        "print(tree)"
      ],
      "execution_count": null,
      "outputs": [
        {
          "output_type": "stream",
          "text": [
            "1, Left child: 2, Left child: 2.1, Right child: 2.2, Right child: 3, Left child: 3.1, Right child: None\n"
          ],
          "name": "stdout"
        }
      ]
    },
    {
      "cell_type": "markdown",
      "metadata": {
        "id": "NtctewgwVCDf"
      },
      "source": [
        "Rest assured that you do not understand. The terms used will be discussed further below. This `class` attribute will be explained in the object-oriented section and the `def` attribute will be explained in functions."
      ]
    },
    {
      "cell_type": "markdown",
      "metadata": {
        "id": "Xta0RagAlZzm"
      },
      "source": [
        "### Dict\r\n",
        "\r\n",
        "Dictionaries are also a type of data that can be changed. However, unlike lists, dictionaries do a kind of mapping between \"Keys\" and \"Values\".\r\n",
        "\r\n",
        "<center><img width=\"50%\" src=\"https://web.stanford.edu/class/archive/cs/cs106a/cs106a.1204/handouts/python-dict.png\"></center>\r\n",
        "\r\n",
        "- The dictionaries are similar to hash tables, i.e. mappings;\r\n",
        "- They are created with {};\r\n",
        "- distributed as {key1:value1, key2:value2};\r\n"
      ]
    },
    {
      "cell_type": "markdown",
      "metadata": {
        "id": "fS2Pssrple8G"
      },
      "source": [
        "### Tuple\r\n"
      ]
    },
    {
      "cell_type": "markdown",
      "metadata": {
        "id": "ymItqw2EObmL"
      },
      "source": [
        "---\r\n",
        "# **2 - Conditional, methods and functions**"
      ]
    },
    {
      "cell_type": "markdown",
      "metadata": {
        "id": "gfNZRPhDmaL9"
      },
      "source": [
        "## If / Else / Elif\r\n"
      ]
    },
    {
      "cell_type": "markdown",
      "metadata": {
        "id": "2T3Z1le_mwHl"
      },
      "source": [
        "## Methods"
      ]
    },
    {
      "cell_type": "markdown",
      "metadata": {
        "id": "VnNqZGCBm9Zu"
      },
      "source": [
        "## Function"
      ]
    },
    {
      "cell_type": "markdown",
      "metadata": {
        "id": "DKBXdmQgONLr"
      },
      "source": [
        "---\r\n",
        "# **3 - Structures of loops**"
      ]
    },
    {
      "cell_type": "markdown",
      "metadata": {
        "id": "ZonKqNQ6lofm"
      },
      "source": [
        "## For loops\r\n"
      ]
    },
    {
      "cell_type": "markdown",
      "metadata": {
        "id": "zel2qOjllveP"
      },
      "source": [
        "## while loops"
      ]
    },
    {
      "cell_type": "markdown",
      "metadata": {
        "id": "YId1odBGmQqN"
      },
      "source": [
        "## Pass and Break"
      ]
    },
    {
      "cell_type": "markdown",
      "metadata": {
        "id": "8K5BwmceO14p"
      },
      "source": [
        "---\r\n",
        "# **4 - Data processing, modules, packege and function Built-in**"
      ]
    },
    {
      "cell_type": "markdown",
      "metadata": {
        "id": "4b5V1F5UuKrg"
      },
      "source": [
        "---\r\n",
        "# **5 - Object orientation**"
      ]
    },
    {
      "cell_type": "markdown",
      "metadata": {
        "id": "5XzKlm-ywoH-"
      },
      "source": [
        "---\r\n",
        "# **6 - Manipulating database with Python**"
      ]
    },
    {
      "cell_type": "markdown",
      "metadata": {
        "id": "QT3m0R9bw_q2"
      },
      "source": [
        "---\r\n",
        "# **7 - Development web with Python**"
      ]
    },
    {
      "cell_type": "markdown",
      "metadata": {
        "id": "e-HeTSU5xUqk"
      },
      "source": [
        "---\r\n",
        "# **8 - Introduction at web scraping with Python**"
      ]
    },
    {
      "cell_type": "markdown",
      "metadata": {
        "id": "LNlPl4SIxpVV"
      },
      "source": [
        "---\r\n",
        "# **Final conclusion**\r\n",
        "---"
      ]
    }
  ]
}